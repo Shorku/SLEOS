{
 "cells": [
  {
   "cell_type": "code",
   "execution_count": 1,
   "id": "131b3392",
   "metadata": {},
   "outputs": [],
   "source": [
    "import math"
   ]
  },
  {
   "cell_type": "code",
   "execution_count": 3,
   "id": "e782725d",
   "metadata": {},
   "outputs": [],
   "source": [
    "def vapor_pressure(T, A, B, C, D):\n",
    "    \"\"\" Calculate saturated vapor pressure using KDB Correlation Equation, \n",
    "    coefficients: https://www.cheric.org/research/kdb/hcprop/cmpsrch.php\n",
    "\n",
    "    Args:\n",
    "        T (float): temperature (K)\n",
    "        A (float): KDB Correlation Equation parameter\n",
    "        B (float): KDB Correlation Equation parameter\n",
    "        C (float): KDB Correlation Equation parameter\n",
    "        D (float): KDB Correlation Equation parameter        \n",
    "\n",
    "    Return:\n",
    "        P (float): pressure (MPa)\n",
    "    \"\"\"\n",
    "    \n",
    "    P = math.exp(A*math.log(T) + B/T + C + D*T**2)/1000\n",
    "    \n",
    "    return P\n",
    "\n",
    "\n",
    "def acentic_factor(Tc, Pc, ES):\n",
    "    \"\"\" Calculate Pitzer's acentric factor\n",
    "    \n",
    "    Args:\n",
    "        Tc (float): critical temperature (K)\n",
    "        Pc (float): critical pressure (MPa)\n",
    "        ES (List[float]): parameters of a vapor pressure function\n",
    "        \n",
    "    Return:\n",
    "        w (float): acentric factor\n",
    "    \"\"\"\n",
    "    \n",
    "    T = 0.7 * Tc\n",
    "    Pvp = vapor_pressure(T, *ES) \n",
    "    w = -1 - math.log10(Pvp/Pc)\n",
    "    \n",
    "    return w"
   ]
  },
  {
   "cell_type": "code",
   "execution_count": 9,
   "id": "21dfcef5",
   "metadata": {},
   "outputs": [
    {
     "name": "stdout",
     "output_type": "stream",
     "text": [
      "acentric factor is 0.3953017137180981\n"
     ]
    }
   ],
   "source": [
    "# n-octane example\n",
    "# \n",
    "# KDB Correlation Equation parameters (for n-octane!) \n",
    "# copy-pasted from https://www.cheric.org/research/kdb/hcprop/showcoef.php?cmpid=8&prop=PVP\n",
    "KBD = '''Coefficient A\t-7.378740E+00\n",
    "Coefficient B\t-6.981936E+03\n",
    "Coefficient C\t6.577825E+01\n",
    "Coefficient D\t3.380923E-06'''\n",
    "KBD = [float(i) for i in KBD.split()[2::3]]\n",
    "# Critical parameters\n",
    "Tc = 569 # K\n",
    "Pc = 2.49 # Mpa\n",
    "# Calculate Pitzer's acentric factor\n",
    "w = acentic_factor(Tc, Pc, KBD)\n",
    "print(f'acentric factor is {w}')"
   ]
  }
 ],
 "metadata": {
  "kernelspec": {
   "display_name": "Python 3 (ipykernel)",
   "language": "python",
   "name": "python3"
  },
  "language_info": {
   "codemirror_mode": {
    "name": "ipython",
    "version": 3
   },
   "file_extension": ".py",
   "mimetype": "text/x-python",
   "name": "python",
   "nbconvert_exporter": "python",
   "pygments_lexer": "ipython3",
   "version": "3.8.10"
  }
 },
 "nbformat": 4,
 "nbformat_minor": 5
}
